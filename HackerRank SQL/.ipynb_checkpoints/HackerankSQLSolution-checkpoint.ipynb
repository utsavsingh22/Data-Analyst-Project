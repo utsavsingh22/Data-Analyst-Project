{
 "cells": [
  {
   "cell_type": "markdown",
   "id": "f58f47ab",
   "metadata": {},
   "source": [
    "## Q.1 Query all columns for all American cities in the CITY table with populations larger than 100000. The CountryCode for America is USA. [Click](https://www.hackerrank.com/challenges/revising-the-select-query/problem?isFullScreen=true)"
   ]
  },
  {
   "cell_type": "code",
   "execution_count": null,
   "id": "b825c05d",
   "metadata": {},
   "outputs": [],
   "source": [
    "SELECT * FROM CITY WHERE POPULATION>100000 AND COUNTRYCODE='USA'"
   ]
  },
  {
   "cell_type": "markdown",
   "id": "d7e75ac4",
   "metadata": {},
   "source": [
    "### Q.2 Query the NAME field for all American cities in the CITY table with populations larger than 120000. The CountryCode for America is USA. [Click](https://www.hackerrank.com/challenges/revising-the-select-query-2/problem?isFullScreen=true)"
   ]
  },
  {
   "cell_type": "code",
   "execution_count": null,
   "id": "a9fcbbde",
   "metadata": {},
   "outputs": [],
   "source": [
    "SELECT NAME FROM CITY WHERE POPULATION>120000 AND COUNTRYCODE='USA'"
   ]
  },
  {
   "cell_type": "markdown",
   "id": "a64feb30",
   "metadata": {},
   "source": [
    "### Q.3 Query all columns (attributes) for every row in the CITY table. [Click](https://www.hackerrank.com/challenges/select-all-sql/problem?isFullScreen=true)"
   ]
  },
  {
   "cell_type": "code",
   "execution_count": null,
   "id": "de2edc83",
   "metadata": {},
   "outputs": [],
   "source": [
    "SELECT * FROM CITY"
   ]
  },
  {
   "cell_type": "markdown",
   "id": "028939fd",
   "metadata": {},
   "source": [
    "### Q.4 Query all columns for a city in CITY with the ID 1661. [Click](https://www.hackerrank.com/challenges/select-by-id/problem?isFullScreen=true)"
   ]
  },
  {
   "cell_type": "code",
   "execution_count": null,
   "id": "79f10e0e",
   "metadata": {},
   "outputs": [],
   "source": [
    "SELECT * FROM CITY WHERE ID=1661"
   ]
  },
  {
   "cell_type": "markdown",
   "id": "99c30017",
   "metadata": {},
   "source": [
    "### Q.5 Query all attributes of every Japanese city in the CITY table. The COUNTRYCODE for Japan is JPN. [Click](https://www.hackerrank.com/challenges/japanese-cities-attributes/problem?isFullScreen=true)"
   ]
  },
  {
   "cell_type": "code",
   "execution_count": null,
   "id": "dbf8f316",
   "metadata": {},
   "outputs": [],
   "source": [
    "SELECT * FROM CITY WHERE COUNTRYCODE='JPN'"
   ]
  },
  {
   "cell_type": "markdown",
   "id": "db21a45c",
   "metadata": {},
   "source": [
    "### Q.6 Query the names of all the Japanese cities in the CITY table. The COUNTRYCODE for Japan is JPN. [Click](https://www.hackerrank.com/challenges/japanese-cities-name/problem?isFullScreen=true)"
   ]
  },
  {
   "cell_type": "code",
   "execution_count": null,
   "id": "ef625be2",
   "metadata": {},
   "outputs": [],
   "source": [
    "SELECT NAME FROM CITY WHERE COUNTRYCODE='JPN'"
   ]
  },
  {
   "cell_type": "markdown",
   "id": "27f71a15",
   "metadata": {},
   "source": [
    "### Q.7 Query a list of CITY and STATE from the STATION table. [Click](https://www.hackerrank.com/challenges/weather-observation-station-1/problem?isFullScreen=true)"
   ]
  },
  {
   "cell_type": "code",
   "execution_count": null,
   "id": "d88561a5",
   "metadata": {},
   "outputs": [],
   "source": [
    "SELECT CITY,STATE FROM STATION"
   ]
  },
  {
   "cell_type": "markdown",
   "id": "921a5821",
   "metadata": {},
   "source": [
    "### Q.8 Query a list of CITY names from STATION for cities that have an even ID number. Print the results in any order, but exclude duplicates from the answer. [Click](https://www.hackerrank.com/challenges/weather-observation-station-3/problem?isFullScreen=true)"
   ]
  },
  {
   "cell_type": "code",
   "execution_count": null,
   "id": "f370e205",
   "metadata": {},
   "outputs": [],
   "source": [
    "SELECT DISTINCT CITY FROM STATION WHERE ID%2=0"
   ]
  },
  {
   "cell_type": "markdown",
   "id": "0847e06d",
   "metadata": {},
   "source": [
    "### Q.9 Find the difference between the total number of CITY entries in the table and the number of distinct CITY entries in the table. [Click](https://www.hackerrank.com/challenges/weather-observation-station-4/problem?isFullScreen=true)"
   ]
  },
  {
   "cell_type": "code",
   "execution_count": null,
   "id": "40bfdde4",
   "metadata": {},
   "outputs": [],
   "source": [
    "SELECT COUNT(*)-COUNT(DISTINCT CITY) AS DIFF FROM STATION"
   ]
  },
  {
   "cell_type": "markdown",
   "id": "40f28da1",
   "metadata": {},
   "source": [
    "### Q.10 Query the two cities in STATION with the shortest and longest CITY names, as well as their respective lengths (i.e.: number of characters in the name). If there is more than one smallest or largest city, choose the one that comes first when ordered alphabetically. [Click](https://www.hackerrank.com/challenges/weather-observation-station-5/problem?isFullScreen=true)"
   ]
  },
  {
   "cell_type": "code",
   "execution_count": null,
   "id": "fdf89fd4",
   "metadata": {},
   "outputs": [],
   "source": [
    "SELECT CITY,LENGTH(CITY) AS COUNTS FROM STATION\n",
    "GROUP BY CITY\n",
    "ORDER BY COUNTS,CITY LIMIT 1;\n",
    "SELECT CITY,LENGTH(CITY) AS COUNTS FROM STATION\n",
    "GROUP BY CITY\n",
    "ORDER BY COUNTS DESC,CITY LIMIT 1;"
   ]
  },
  {
   "cell_type": "markdown",
   "id": "e99e8722",
   "metadata": {},
   "source": [
    "### Q.11 Query the list of CITY names starting with vowels (i.e., a, e, i, o, or u) from STATION. Your result cannot contain duplicates. [Click](https://www.hackerrank.com/challenges/weather-observation-station-6/problem?isFullScreen=true)"
   ]
  },
  {
   "cell_type": "code",
   "execution_count": null,
   "id": "5f31a85a",
   "metadata": {},
   "outputs": [],
   "source": [
    "SELECT DISTINCT CITY FROM STATION \n",
    "WHERE CITY LIKE 'a%'\n",
    "or CITY LIKE 'e%'\n",
    "or CITY LIKE 'i%'\n",
    "or CITY LIKE 'o%'\n",
    "or CITY LIKE 'u%'\n",
    "--Aliter\n",
    "SELECT DISTINCT city FROM station WHERE city REGEXP '^[aeiou]';"
   ]
  },
  {
   "cell_type": "markdown",
   "id": "b018474d",
   "metadata": {},
   "source": [
    "### Q.12 Query the list of CITY names ending with vowels (a, e, i, o, u) from STATION. Your result cannot contain duplicates. [Click](https://www.hackerrank.com/challenges/weather-observation-station-7/problem?isFullScreen=true)"
   ]
  },
  {
   "cell_type": "code",
   "execution_count": null,
   "id": "31aea5eb",
   "metadata": {},
   "outputs": [],
   "source": [
    "SELECT DISTINCT CITY FROM STATION \n",
    "WHERE CITY LIKE '%a'\n",
    "or CITY LIKE '%e'\n",
    "or CITY LIKE '%i'\n",
    "or CITY LIKE '%o'\n",
    "or CITY LIKE '%u'\n",
    "--Aliter\n",
    "SELECT DISTINCT city FROM station WHERE city REGEXP '[aeiou]$';"
   ]
  },
  {
   "cell_type": "markdown",
   "id": "6fc71d98",
   "metadata": {},
   "source": [
    "### Q.13 Query the list of CITY names from STATION which have vowels (i.e., a, e, i, o, and u) as both their first and last characters. Your result cannot contain duplicates. [Click](https://www.hackerrank.com/challenges/weather-observation-station-8/problem?isFullScreen=true)"
   ]
  },
  {
   "cell_type": "code",
   "execution_count": null,
   "id": "7bc158ab",
   "metadata": {},
   "outputs": [],
   "source": [
    "SELECT DISTINCT CITY FROM STATION WHERE CITY REGEXP '^[aeiou]' AND CITY REGEXP '[aeiou]$'\n",
    "--ALITER\n",
    "SELECT DISTINCT CITY FROM STATION WHERE SUBSTR(CITY,1,1) IN ('A','E','I','O','U') AND SUBSTR(CITY,-1,1) IN ('a','e','i','o','u');"
   ]
  },
  {
   "cell_type": "markdown",
   "id": "d015256e",
   "metadata": {},
   "source": [
    "### Q.14 Query the list of CITY names from STATION that do not start with vowels. Your result cannot contain duplicates. [Click](https://www.hackerrank.com/challenges/weather-observation-station-9/problem?isFullScreen=true)"
   ]
  },
  {
   "cell_type": "code",
   "execution_count": null,
   "id": "47c14aa4",
   "metadata": {},
   "outputs": [],
   "source": [
    "SELECT DISTINCT CITY FROM STATION WHERE SUBSTR(CITY,1,1) NOT IN ('A','E','I','O','U');\n",
    "--ALITER\n",
    "SELECT DISTINCT (CITY) FROM STATION WHERE CITY REGEXP '^[^AEIOU]';"
   ]
  },
  {
   "cell_type": "markdown",
   "id": "f510d804",
   "metadata": {},
   "source": [
    "### Q.15 Query the list of CITY names from STATION that do not end with vowels. Your result cannot contain duplicates. [Click](https://www.hackerrank.com/challenges/weather-observation-station-10/problem?isFullScreen=true)"
   ]
  },
  {
   "cell_type": "code",
   "execution_count": null,
   "id": "d7c62f78",
   "metadata": {},
   "outputs": [],
   "source": [
    "SELECT DISTINCT CITY FROM STATION WHERE SUBSTR(CITY,-1,1) NOT IN ('A','E','I','O','U')\n",
    "--ALITER\n",
    "SELECT DISTINCT CITY FROM STATION WHERE CITY REGEXP '[^AEIOU]$'"
   ]
  },
  {
   "cell_type": "markdown",
   "id": "3b07f755",
   "metadata": {},
   "source": [
    "### Q.16 Query the list of CITY names from STATION that either do not start with vowels or do not end with vowels. Your result cannot contain duplicates. [Click](https://www.hackerrank.com/challenges/weather-observation-station-11/problem?isFullScreen=true)"
   ]
  },
  {
   "cell_type": "code",
   "execution_count": null,
   "id": "083d9d33",
   "metadata": {},
   "outputs": [],
   "source": [
    "SELECT DISTINCT CITY FROM STATION WHERE SUBSTR(CITY,1,1) NOT IN ('A','E','I','O','U')\n",
    "OR SUBSTR(CITY,-1,1) NOT IN ('A','E','I','O','U')\n",
    "--ALITER\n",
    "SELECT DISTINCT CITY FROM STATION WHERE CITY REGEXP '^[^AEIOU]' OR CITY REGEXP '[^AEIOU]$'"
   ]
  },
  {
   "cell_type": "markdown",
   "id": "6021b59c",
   "metadata": {},
   "source": [
    "### Q.17 Query the list of CITY names from STATION that do not start with vowels and do not end with vowels. Your result cannot contain duplicates. [Click](https://www.hackerrank.com/challenges/weather-observation-station-12/problem?isFullScreen=true)"
   ]
  },
  {
   "cell_type": "code",
   "execution_count": null,
   "id": "eadb6481",
   "metadata": {},
   "outputs": [],
   "source": [
    "SELECT DISTINCT CITY FROM STATION WHERE SUBSTR(CITY,1,1) NOT IN ('A','E','I','O','U')\n",
    "AND SUBSTR(CITY,-1,1) NOT IN ('A','E','I','O','U')\n",
    "--ALITER\n",
    "SELECT DISTINCT CITY FROM STATION WHERE CITY REGEXP '^[^AEIOU]' AND CITY REGEXP '[^AEIOU]$'"
   ]
  },
  {
   "cell_type": "markdown",
   "id": "020b429f",
   "metadata": {},
   "source": [
    "### Q.18 Query the Name of any student in STUDENTS who scored higher than 75 Marks. Order your output by the last three characters of each name. If two or more students both have names ending in the same last three characters (i.e.: Bobby, Robby, etc.), secondary sort them by ascending ID. [Click](https://www.hackerrank.com/challenges/more-than-75-marks/problem?isFullScreen=true)"
   ]
  },
  {
   "cell_type": "code",
   "execution_count": null,
   "id": "55f4d47d",
   "metadata": {},
   "outputs": [],
   "source": [
    "SELECT NAME FROM STUDENTS WHERE\n",
    "MARKS>75\n",
    "ORDER BY SUBSTR(NAME,-3,3),ID;"
   ]
  },
  {
   "cell_type": "markdown",
   "id": "6812e7df",
   "metadata": {},
   "source": [
    "### Q.19 Write a query that prints a list of employee names (i.e.: the name attribute) from the Employee table in alphabetical order. [Click](https://www.hackerrank.com/challenges/name-of-employees/problem?isFullScreen=true)"
   ]
  },
  {
   "cell_type": "code",
   "execution_count": null,
   "id": "d5fd4f6c",
   "metadata": {},
   "outputs": [],
   "source": [
    "SELECT name FROM Employee \n",
    "ORDER BY name"
   ]
  },
  {
   "cell_type": "markdown",
   "id": "9b4be472",
   "metadata": {},
   "source": [
    "### Q.20 Write a query that prints a list of employee names (i.e.: the name attribute) for employees in Employee having a salary greater than 2000 per month who have been employees for less than 10 months. Sort your result by ascending employee_id. [Click](https://www.hackerrank.com/challenges/salary-of-employees/problem?isFullScreen=true)"
   ]
  },
  {
   "cell_type": "code",
   "execution_count": null,
   "id": "a72dc8ad",
   "metadata": {},
   "outputs": [],
   "source": [
    "SELECT name FROM Employee WHERE salary>2000 and months<10 \n",
    "ORDER BY employee_id"
   ]
  },
  {
   "cell_type": "markdown",
   "id": "c6f1aff3",
   "metadata": {},
   "source": [
    "### Q.21 Write a query identifying the type of each record in the TRIANGLES table using its three side lengths. Output one of the following statements for each record in the table. [Click](https://www.hackerrank.com/challenges/what-type-of-triangle/problem?isFullScreen=true)"
   ]
  },
  {
   "cell_type": "code",
   "execution_count": null,
   "id": "d871d93f",
   "metadata": {},
   "outputs": [],
   "source": [
    "select \n",
    "CASE WHEN (A+B <= C OR B+C <= A OR A+C <= B) THEN 'Not A Triangle' \n",
    "WHEN A=B AND B=C THEN 'Equilateral'\n",
    "WHEN A=B OR B=C OR C=A  THEN 'Isosceles'\n",
    "ELSE 'Scalene' \n",
    "END as traingle\n",
    "from TRIANGLES"
   ]
  },
  {
   "cell_type": "markdown",
   "id": "adb80fb7",
   "metadata": {},
   "source": [
    "### Q.22 Generate the following two result sets:\n",
    "\n",
    "Query an alphabetically ordered list of all names in OCCUPATIONS, immediately followed by the first letter of each profession as a parenthetical (i.e.: enclosed in parentheses). For example: AnActorName(A), ADoctorName(D), AProfessorName(P), and ASingerName(S).\n",
    "Query the number of ocurrences of each occupation in OCCUPATIONS. Sort the occurrences in ascending order, and output them in the following format:\n",
    "\n",
    "There are a total of [occupation_count] [occupation]s.\n",
    "where [occupation_count] is the number of occurrences of an occupation in OCCUPATIONS and [occupation] is the lowercase occupation name. If more than one Occupation has the same [occupation_count], they should be ordered alphabetically. [Click](https://www.hackerrank.com/challenges/the-pads/problem?isFullScreen=true)"
   ]
  },
  {
   "cell_type": "code",
   "execution_count": null,
   "id": "9a00ffd9",
   "metadata": {},
   "outputs": [],
   "source": [
    "SELECT CONCAT(NAME,'(',SUBSTR(OCCUPATION,1,1),')') AS A FROM OCCUPATIONS ORDER BY A; \n",
    "SELECT CONCAT('There are a total of ',COUNT(OCCUPATION),' ',LOWER(OCCUPATION),'s.') FROM OCCUPATIONS\n",
    "GROUP BY OCCUPATION ORDER BY COUNT(OCCUPATION)ASC,OCCUPATION;"
   ]
  },
  {
   "cell_type": "markdown",
   "id": "512aa4be",
   "metadata": {},
   "source": [
    "### Q.23 Query a count of the number of cities in CITY having a Population larger than 100000. [Click](https://www.hackerrank.com/challenges/revising-aggregations-the-count-function/problem?isFullScreen=true)"
   ]
  },
  {
   "cell_type": "code",
   "execution_count": null,
   "id": "4125fe6d",
   "metadata": {},
   "outputs": [],
   "source": [
    "SELECT COUNT(ID) FROM CITY WHERE POPULATION > 100000;"
   ]
  },
  {
   "cell_type": "markdown",
   "id": "1adc3709",
   "metadata": {},
   "source": [
    "### Q.24 Query the total population of all cities in CITY where District is California. [Click](https://www.hackerrank.com/challenges/revising-aggregations-sum/problem?isFullScreen=true)"
   ]
  },
  {
   "cell_type": "code",
   "execution_count": null,
   "id": "c06c912e",
   "metadata": {},
   "outputs": [],
   "source": [
    "SELECT SUM(POPULATION) FROM CITY WHERE DISTRICT='California'"
   ]
  },
  {
   "cell_type": "markdown",
   "id": "7fc05b89",
   "metadata": {},
   "source": [
    "### Q.25 Query the average population of all cities in CITY where District is California. [Click](https://www.hackerrank.com/challenges/revising-aggregations-the-average-function/problem?isFullScreen=true)"
   ]
  },
  {
   "cell_type": "code",
   "execution_count": null,
   "id": "2c574d02",
   "metadata": {},
   "outputs": [],
   "source": [
    "SELECT AVG(POPULATION) FROM CITY WHERE DISTRICT='California'"
   ]
  },
  {
   "cell_type": "markdown",
   "id": "3b4e2747",
   "metadata": {},
   "source": [
    "### Q.26 Query the average population for all cities in CITY, rounded down to the nearest integer. [Click](https://www.hackerrank.com/challenges/average-population/problem?isFullScreen=true)"
   ]
  },
  {
   "cell_type": "code",
   "execution_count": null,
   "id": "e15abbcb",
   "metadata": {},
   "outputs": [],
   "source": [
    "SELECT ROUND(AVG(POPULATION)) FROM CITY"
   ]
  },
  {
   "cell_type": "markdown",
   "id": "4131826c",
   "metadata": {},
   "source": [
    "### Q.27 Query the sum of the populations for all Japanese cities in CITY. The COUNTRYCODE for Japan is JPN. [Click](https://www.hackerrank.com/challenges/japan-population/problem?isFullScreen=true)"
   ]
  },
  {
   "cell_type": "code",
   "execution_count": null,
   "id": "fab752b7",
   "metadata": {},
   "outputs": [],
   "source": [
    "SELECT SUM(POPULATION) FROM CITY WHERE COUNTRYCODE='JPN'"
   ]
  }
 ],
 "metadata": {
  "kernelspec": {
   "display_name": "Python 3 (ipykernel)",
   "language": "python",
   "name": "python3"
  },
  "language_info": {
   "codemirror_mode": {
    "name": "ipython",
    "version": 3
   },
   "file_extension": ".py",
   "mimetype": "text/x-python",
   "name": "python",
   "nbconvert_exporter": "python",
   "pygments_lexer": "ipython3",
   "version": "3.9.2"
  }
 },
 "nbformat": 4,
 "nbformat_minor": 5
}
