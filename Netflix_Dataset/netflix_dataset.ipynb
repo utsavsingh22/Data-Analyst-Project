{
 "cells": [
  {
   "attachments": {},
   "cell_type": "markdown",
   "metadata": {},
   "source": [
    "### Netflix Dataset\n",
    "Given File 'netflix_dataset.csv'\n",
    "In this case study, we are going to work on the Netflix movies and TV shows dataset.\n",
    "Our first task is to read the dataset and print the shape of the dataset.\n",
    "Do the following as first steps to start EDA on this dataset:\n",
    "1.Import NumPy library\n",
    "2.Import Pandas library\n",
    "3.Import pyplot module from matplotlib library\n",
    "4.Read the dataset using pandas\n",
    "5.Print the shape of the dataset"
   ]
  },
  {
   "cell_type": "code",
   "execution_count": null,
   "metadata": {},
   "outputs": [],
   "source": [
    "import numpy as np\n",
    "import pandas as pd \n",
    "df=pd.read_csv(\"D:\\Data Analyst Project\\Netflix_Dataset\\netflix_dataset.csv\")\n",
    "print(df.shape)"
   ]
  },
  {
   "cell_type": "code",
   "execution_count": null,
   "metadata": {},
   "outputs": [],
   "source": []
  }
 ],
 "metadata": {
  "language_info": {
   "name": "python"
  },
  "orig_nbformat": 4
 },
 "nbformat": 4,
 "nbformat_minor": 2
}
