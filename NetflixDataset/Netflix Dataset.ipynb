{
 "cells": [
  {
   "cell_type": "markdown",
   "id": "025ee096",
   "metadata": {},
   "source": [
    "# In this case study, we are going to work on the Netflix movies and TV shows dataset.Our first task is to read the dataset and print the shape of the dataset."
   ]
  },
  {
   "cell_type": "code",
   "execution_count": 2,
   "id": "5301c21b",
   "metadata": {},
   "outputs": [
    {
     "name": "stdout",
     "output_type": "stream",
     "text": [
      "(7787, 12)\n"
     ]
    }
   ],
   "source": [
    "import pandas as pd\n",
    "df=pd.read_csv(r\"D:\\Data Analyst Project\\NetflixDataset\\netflix_dataset.csv\")\n",
    "print(df.shape)"
   ]
  },
  {
   "cell_type": "markdown",
   "id": "e8e6fa53",
   "metadata": {},
   "source": [
    "## Describe the dataset."
   ]
  },
  {
   "cell_type": "code",
   "execution_count": 3,
   "id": "540b2326",
   "metadata": {},
   "outputs": [
    {
     "name": "stdout",
     "output_type": "stream",
     "text": [
      "       release_year\n",
      "count   7787.000000\n",
      "mean    2013.932580\n",
      "std        8.757395\n",
      "min     1925.000000\n",
      "25%     2013.000000\n",
      "50%     2017.000000\n",
      "75%     2018.000000\n",
      "max     2021.000000\n"
     ]
    }
   ],
   "source": [
    "print(df.describe())"
   ]
  },
  {
   "cell_type": "markdown",
   "id": "d20e2a32",
   "metadata": {},
   "source": [
    "## Print the datatype of each column."
   ]
  },
  {
   "cell_type": "code",
   "execution_count": 4,
   "id": "57d7697f",
   "metadata": {},
   "outputs": [
    {
     "name": "stdout",
     "output_type": "stream",
     "text": [
      "show_id         object\n",
      "type            object\n",
      "title           object\n",
      "director        object\n",
      "cast            object\n",
      "country         object\n",
      "date_added      object\n",
      "release_year     int64\n",
      "rating          object\n",
      "duration        object\n",
      "listed_in       object\n",
      "description     object\n",
      "dtype: object\n"
     ]
    }
   ],
   "source": [
    "print(df.dtypes)"
   ]
  },
  {
   "cell_type": "markdown",
   "id": "e3fe3b47",
   "metadata": {},
   "source": [
    "## Print the number of NA values in each column."
   ]
  },
  {
   "cell_type": "code",
   "execution_count": 5,
   "id": "e5e7ff53",
   "metadata": {},
   "outputs": [
    {
     "name": "stdout",
     "output_type": "stream",
     "text": [
      "show_id            0\n",
      "type               0\n",
      "title              0\n",
      "director        2389\n",
      "cast             718\n",
      "country          507\n",
      "date_added        10\n",
      "release_year       0\n",
      "rating             7\n",
      "duration           0\n",
      "listed_in          0\n",
      "description        0\n",
      "dtype: int64\n"
     ]
    }
   ],
   "source": [
    "value=df.isna().sum()\n",
    "print(value)"
   ]
  },
  {
   "cell_type": "markdown",
   "id": "cbb1c7e6",
   "metadata": {},
   "source": [
    "## Find and print the overall percentage of TV shows and Movies."
   ]
  },
  {
   "cell_type": "code",
   "execution_count": 8,
   "id": "7cf083de",
   "metadata": {},
   "outputs": [
    {
     "name": "stdout",
     "output_type": "stream",
     "text": [
      "69.1 30.9\n"
     ]
    }
   ],
   "source": [
    "movie=round(100*df[\"type\"].value_counts(normalize=True).values[0],1)\n",
    "tv=round(100*df[\"type\"].value_counts(normalize=True).values[1],1)\n",
    "print(movie,tv)"
   ]
  },
  {
   "cell_type": "markdown",
   "id": "7d3c320c",
   "metadata": {},
   "source": [
    "## print the year having the most number of content added."
   ]
  },
  {
   "cell_type": "code",
   "execution_count": 17,
   "id": "db0d6c6b",
   "metadata": {},
   "outputs": [
    {
     "name": "stdout",
     "output_type": "stream",
     "text": [
      "2021\n"
     ]
    }
   ],
   "source": [
    "\n",
    "result = df[\"release_year\"].max()\n",
    "#result = df.groupby('release_year').max()\n",
    "print(result)"
   ]
  },
  {
   "cell_type": "markdown",
   "id": "49777971",
   "metadata": {},
   "source": [
    "## Mean"
   ]
  },
  {
   "cell_type": "code",
   "execution_count": 22,
   "id": "e4036830",
   "metadata": {},
   "outputs": [
    {
     "name": "stdout",
     "output_type": "stream",
     "text": [
      "2013.93\n"
     ]
    }
   ],
   "source": [
    "avg=df['release_year']\n",
    "print(round(avg.mean(),2))"
   ]
  },
  {
   "cell_type": "markdown",
   "id": "4f408fba",
   "metadata": {},
   "source": [
    "## Corelation is the relation between two integer values -df.corr()[\"col1\"][col2]"
   ]
  },
  {
   "cell_type": "markdown",
   "id": "d6264742",
   "metadata": {},
   "source": [
    "## InterQuartile"
   ]
  },
  {
   "cell_type": "code",
   "execution_count": 29,
   "id": "684e6e0f",
   "metadata": {},
   "outputs": [
    {
     "name": "stdout",
     "output_type": "stream",
     "text": [
      "5.0\n"
     ]
    }
   ],
   "source": [
    "Q1=df['release_year'].quantile(0.25)\n",
    "Q3=df['release_year'].quantile(0.75)\n",
    "IQR=Q3-Q1\n",
    "print(IQR)"
   ]
  },
  {
   "cell_type": "code",
   "execution_count": null,
   "id": "9f6ba840",
   "metadata": {},
   "outputs": [],
   "source": []
  }
 ],
 "metadata": {
  "kernelspec": {
   "display_name": "Python 3 (ipykernel)",
   "language": "python",
   "name": "python3"
  },
  "language_info": {
   "codemirror_mode": {
    "name": "ipython",
    "version": 3
   },
   "file_extension": ".py",
   "mimetype": "text/x-python",
   "name": "python",
   "nbconvert_exporter": "python",
   "pygments_lexer": "ipython3",
   "version": "3.9.2"
  }
 },
 "nbformat": 4,
 "nbformat_minor": 5
}
